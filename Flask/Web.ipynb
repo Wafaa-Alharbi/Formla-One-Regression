{
 "cells": [
  {
   "cell_type": "code",
   "execution_count": null,
   "metadata": {
    "colab": {
     "base_uri": "https://localhost:8080/"
    },
    "id": "Xv7Bb8a7gaZA",
    "outputId": "2e506f2d-694a-4524-c9cb-dd2724aed416"
   },
   "outputs": [],
   "source": [
    "!pip install flask_ngrok"
   ]
  },
  {
   "cell_type": "code",
   "execution_count": 1,
   "metadata": {},
   "outputs": [],
   "source": [
    "import pandas as pd\n",
    "x3_test= pd.read_csv('X3_test.csv')"
   ]
  },
  {
   "cell_type": "code",
   "execution_count": null,
   "metadata": {
    "colab": {
     "base_uri": "https://localhost:8080/"
    },
    "id": "dHqLtOM2Znu7",
    "outputId": "641be274-7e7c-4743-e9ff-0dbf0addd7e6"
   },
   "outputs": [
    {
     "name": "stdout",
     "output_type": "stream",
     "text": [
      " * Serving Flask app \"__main__\" (lazy loading)\n",
      " * Environment: production\n",
      "   WARNING: This is a development server. Do not use it in a production deployment.\n",
      "   Use a production WSGI server instead.\n",
      " * Debug mode: off\n"
     ]
    },
    {
     "name": "stderr",
     "output_type": "stream",
     "text": [
      " * Running on http://127.0.0.1:5000/ (Press CTRL+C to quit)\n"
     ]
    },
    {
     "name": "stdout",
     "output_type": "stream",
     "text": [
      " * Running on http://24fd-2001-16a2-ce22-3c00-dcab-828a-3ec3-d425.ngrok.io\n",
      " * Traffic stats available on http://127.0.0.1:4040\n"
     ]
    }
   ],
   "source": [
    "from flask import Flask,request,render_template\n",
    "from flask_ngrok import run_with_ngrok\n",
    "import joblib\n",
    "loaded_model = joblib.load('C:/Users/Computer/Downloads/Web/model.sav')\n",
    "\n",
    "static_folder='C:/Users/Computer/Downloads/Web/static/'\n",
    "template_dir= 'C:/Users/Computer/Downloads/Web/templates/'\n",
    "app = Flask(__name__,template_folder=template_dir,static_folder =static_folder )\n",
    "run_with_ngrok(app)   \n",
    "\n",
    "@app.route('/',methods =['GET','POST'])\n",
    "@app.route(\"/\")\n",
    "def predict():\n",
    "  if request.method == 'POST':\n",
    "    text1 = request.form['Qualifying Positin']\n",
    "    text2 = request.form['Starting grid Positin']\n",
    "    text3 = request.form['Fastest Lap Positin']\n",
    "    text4 = request.form['Predict3']\n",
    "    text4 = request.form['fastlapavg']\n",
    "    text5 = request.form['racerl']\n",
    "    text6 = request.form['Psst']\n",
    "     \n",
    "#    pred = loaded_model.predict(x3_test) # Edit this line\n",
    "\n",
    "#    return render_template('results.html', prediction_text=pred)\n",
    "  return render_template('main.html')\n",
    "\n",
    "app.run()"
   ]
  },
  {
   "cell_type": "code",
   "execution_count": 3,
   "metadata": {},
   "outputs": [
    {
     "ename": "NameError",
     "evalue": "name '_name_' is not defined",
     "output_type": "error",
     "traceback": [
      "\u001b[1;31m---------------------------------------------------------------------------\u001b[0m",
      "\u001b[1;31mNameError\u001b[0m                                 Traceback (most recent call last)",
      "\u001b[1;32m<ipython-input-3-b2830865a1bb>\u001b[0m in \u001b[0;36m<module>\u001b[1;34m\u001b[0m\n\u001b[0;32m      8\u001b[0m \u001b[0mstatic_folder\u001b[0m\u001b[1;33m=\u001b[0m\u001b[1;34m'C:/Users/Computer/Downloads/Web/static/'\u001b[0m\u001b[1;33m\u001b[0m\u001b[1;33m\u001b[0m\u001b[0m\n\u001b[0;32m      9\u001b[0m \u001b[0mtemplate_dir\u001b[0m\u001b[1;33m=\u001b[0m  \u001b[1;34m'C:/Users/Computer/Downloads/Web/templates/'\u001b[0m\u001b[1;33m\u001b[0m\u001b[1;33m\u001b[0m\u001b[0m\n\u001b[1;32m---> 10\u001b[1;33m \u001b[0mapp\u001b[0m \u001b[1;33m=\u001b[0m \u001b[0mFlask\u001b[0m\u001b[1;33m(\u001b[0m\u001b[0m_name_\u001b[0m\u001b[1;33m,\u001b[0m\u001b[0mtemplate_folder\u001b[0m\u001b[1;33m=\u001b[0m\u001b[0mtemplate_dir\u001b[0m\u001b[1;33m,\u001b[0m\u001b[0mstatic_folder\u001b[0m \u001b[1;33m=\u001b[0m\u001b[0mstatic_folder\u001b[0m \u001b[1;33m)\u001b[0m\u001b[1;33m\u001b[0m\u001b[1;33m\u001b[0m\u001b[0m\n\u001b[0m\u001b[0;32m     11\u001b[0m \u001b[1;31m# run_with_ngrok(app)\u001b[0m\u001b[1;33m\u001b[0m\u001b[1;33m\u001b[0m\u001b[1;33m\u001b[0m\u001b[0m\n\u001b[0;32m     12\u001b[0m \u001b[1;33m\u001b[0m\u001b[0m\n",
      "\u001b[1;31mNameError\u001b[0m: name '_name_' is not defined"
     ]
    }
   ],
   "source": [
    "from flask import Flask,request,render_template\n",
    "from flask_ngrok import run_with_ngrok\n",
    "import joblib\n",
    "# from flask_ngrok import run_with_ngrok\n",
    "\n",
    "loaded_model = joblib.load('model.sav')\n",
    "\n",
    "static_folder='C:/Users/Computer/Downloads/Web/static/'\n",
    "template_dir=  'C:/Users/Computer/Downloads/Web/templates/'\n",
    "app = Flask(_name_,template_folder=template_dir,static_folder =static_folder )\n",
    "# run_with_ngrok(app)   \n",
    "\n",
    "@app.route('/',methods =['GET','POST'])\n",
    "@app.route(\"/\")\n",
    "def predict():\n",
    "  if request.method == 'POST':\n",
    "    text1 = request.form['Qualifying Positin']\n",
    "    text2 = request.form['Starting grid Positin']\n",
    "    text3 = request.form['Fastest Lap Positin']\n",
    "    text4 = request.form['Predict3']\n",
    "    text4 = request.form['fastlapavg']\n",
    "    text5 = request.form['racerl']\n",
    "    text6 = request.form['Psst']\n",
    "     \n",
    "    pred = loaded_model.predict(x3_test) # Edit this line\n",
    "\n",
    "    return render_template('results.html', prediction_text=pred)\n",
    "  return render_template('main.html')\n",
    "\n",
    "app.run()"
   ]
  },
  {
   "cell_type": "code",
   "execution_count": 5,
   "metadata": {
    "id": "xIVjj4OogG89"
   },
   "outputs": [
    {
     "ename": "NameError",
     "evalue": "name '_name_' is not defined",
     "output_type": "error",
     "traceback": [
      "\u001b[1;31m---------------------------------------------------------------------------\u001b[0m",
      "\u001b[1;31mNameError\u001b[0m                                 Traceback (most recent call last)",
      "\u001b[1;32m<ipython-input-5-3fc979c5924c>\u001b[0m in \u001b[0;36m<module>\u001b[1;34m\u001b[0m\n\u001b[0;32m      8\u001b[0m \u001b[0mstatic_folder\u001b[0m\u001b[1;33m=\u001b[0m\u001b[1;34m'C:/Users/Computer/Downloads/Web/static/'\u001b[0m\u001b[1;33m\u001b[0m\u001b[1;33m\u001b[0m\u001b[0m\n\u001b[0;32m      9\u001b[0m \u001b[0mtemplate_dir\u001b[0m\u001b[1;33m=\u001b[0m \u001b[1;34m'C:/Users/Computer/Downloads/Web/templates/'\u001b[0m\u001b[1;33m\u001b[0m\u001b[1;33m\u001b[0m\u001b[0m\n\u001b[1;32m---> 10\u001b[1;33m \u001b[0mapp\u001b[0m \u001b[1;33m=\u001b[0m \u001b[0mFlask\u001b[0m\u001b[1;33m(\u001b[0m\u001b[0m_name_\u001b[0m\u001b[1;33m,\u001b[0m\u001b[0mtemplate_folder\u001b[0m\u001b[1;33m=\u001b[0m\u001b[0mtemplate_dir\u001b[0m\u001b[1;33m,\u001b[0m\u001b[0mstatic_folder\u001b[0m \u001b[1;33m=\u001b[0m\u001b[0mstatic_folder\u001b[0m \u001b[1;33m)\u001b[0m\u001b[1;33m\u001b[0m\u001b[1;33m\u001b[0m\u001b[0m\n\u001b[0m\u001b[0;32m     11\u001b[0m \u001b[1;31m# run_with_ngrok(app)\u001b[0m\u001b[1;33m\u001b[0m\u001b[1;33m\u001b[0m\u001b[1;33m\u001b[0m\u001b[0m\n\u001b[0;32m     12\u001b[0m \u001b[1;33m\u001b[0m\u001b[0m\n",
      "\u001b[1;31mNameError\u001b[0m: name '_name_' is not defined"
     ]
    }
   ],
   "source": [
    "from flask import Flask,request,render_template\n",
    "from flask_ngrok import run_with_ngrok\n",
    "\n",
    "# from flask_ngrok import run_with_ngrok\n",
    "import joblib\n",
    "loaded_model = joblib.load('model.sav')\n",
    "\n",
    "static_folder='C:/Users/Computer/Downloads/Web/static/'\n",
    "template_dir= 'C:/Users/Computer/Downloads/Web/templates/'\n",
    "app = Flask(_name_,template_folder=template_dir,static_folder =static_folder )\n",
    "# run_with_ngrok(app)   \n",
    "\n",
    "@app.route('/',methods =['GET','POST'])\n",
    "@app.route(\"/\")\n",
    "def predict():\n",
    "  if request.method == 'POST':\n",
    "    text1 = request.form['Qualifying Positin']\n",
    "    text2 = request.form['Starting grid Positin']\n",
    "    text3 = request.form['Fastest Lap Positin']\n",
    "    text4 = request.form['Predict3']\n",
    "    text4 = request.form['fastlapavg']\n",
    "    text5 = request.form['racerl']\n",
    "    text6 = request.form['Psst']\n",
    "     \n",
    "    pred = loaded_model.predict(HERE) # Edit this line\n",
    "\n",
    "    return render_template('results.html', prediction_text=pred)\n",
    "  return render_template('main.html')\n",
    "\n",
    "app.run()"
   ]
  },
  {
   "cell_type": "code",
   "execution_count": null,
   "metadata": {},
   "outputs": [],
   "source": []
  }
 ],
 "metadata": {
  "colab": {
   "collapsed_sections": [],
   "name": "Web.ipynb",
   "provenance": []
  },
  "kernelspec": {
   "display_name": "Python 3",
   "language": "python",
   "name": "python3"
  },
  "language_info": {
   "codemirror_mode": {
    "name": "ipython",
    "version": 3
   },
   "file_extension": ".py",
   "mimetype": "text/x-python",
   "name": "python",
   "nbconvert_exporter": "python",
   "pygments_lexer": "ipython3",
   "version": "3.8.8"
  }
 },
 "nbformat": 4,
 "nbformat_minor": 1
}
